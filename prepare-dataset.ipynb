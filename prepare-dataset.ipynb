{
 "cells": [
  {
   "cell_type": "markdown",
   "metadata": {},
   "source": [
    "## explore data"
   ]
  },
  {
   "cell_type": "code",
   "execution_count": 56,
   "metadata": {},
   "outputs": [
    {
     "name": "stdout",
     "output_type": "stream",
     "text": [
      "h 564\n",
      "a 549\n"
     ]
    }
   ],
   "source": [
    "import os\n",
    "\n",
    "dog_map = {\n",
    "    'h': [],\n",
    "    'a': []\n",
    "}\n",
    "\n",
    "dog_to_idx = {\n",
    "    'h': 0,\n",
    "    'a': 1\n",
    "}\n",
    "\n",
    "data_dir = './data/img'\n",
    "fnames = os.listdir(data_dir)\n",
    "counter = 0\n",
    "for fn in fnames:\n",
    "    arr = fn.split('_')\n",
    "    category = arr[0]\n",
    "    dog_map[category].append({\n",
    "        'idx': counter,\n",
    "        'label': dog_to_idx[category],\n",
    "        'filename': fn,\n",
    "    })\n",
    "    counter += 1\n",
    "    \n",
    "for k in dog_map:\n",
    "    print(k, len(dog_map[k]))"
   ]
  },
  {
   "cell_type": "markdown",
   "metadata": {},
   "source": [
    "## generate lst file\n",
    "1. Shuffle images\n",
    "2. Split into sample, train, validation, test"
   ]
  },
  {
   "cell_type": "code",
   "execution_count": 57,
   "metadata": {},
   "outputs": [],
   "source": [
    "import random\n",
    "random.shuffle(dog_map['h'])\n",
    "random.shuffle(dog_map['a'])"
   ]
  },
  {
   "cell_type": "code",
   "execution_count": 58,
   "metadata": {},
   "outputs": [],
   "source": [
    "def write_lst(image_arr, base_dir, file_path):\n",
    "    with open(file_path, 'w') as f:\n",
    "        count = 0\n",
    "        for img in image_arr:\n",
    "            label = img['label']\n",
    "            img_path = os.path.join(base_dir, img['filename'])\n",
    "            new_line = '\\t'.join([str(count), str(label), str(img_path)])\n",
    "            new_line += '\\n'\n",
    "            f.write(new_line)\n",
    "            count += 1"
   ]
  },
  {
   "cell_type": "code",
   "execution_count": 59,
   "metadata": {},
   "outputs": [],
   "source": [
    "# split data range\n",
    "min_data_len = min(len(dog_map['h']), len(dog_map['a']))\n",
    "sample = (0, 8)\n",
    "train = (0, int(min_data_len * 0.7))\n",
    "validation = (int(min_data_len * 0.7), int(min_data_len * 0.85))\n",
    "test = (int(min_data_len * 0.85), int(min_data_len * 1))\n",
    "\n",
    "def split_dataset(from_idx, to_idx):\n",
    "    return dog_map['h'][from_idx: to_idx] + dog_map['a'][from_idx: to_idx]"
   ]
  },
  {
   "cell_type": "code",
   "execution_count": 60,
   "metadata": {},
   "outputs": [],
   "source": [
    "# sample set is for developing model and debugging\n",
    "# because debugging with large dataset takes a long time\n",
    "sample_set = split_dataset(sample[0], sample[1])\n",
    "write_lst(sample_set, './data/img', './data/sample/dog.lst')"
   ]
  },
  {
   "cell_type": "code",
   "execution_count": 61,
   "metadata": {},
   "outputs": [],
   "source": [
    "train_set = split_dataset(train[0], train[1])\n",
    "write_lst(train_set, './data/img', './data/train/dog.lst')"
   ]
  },
  {
   "cell_type": "code",
   "execution_count": 62,
   "metadata": {},
   "outputs": [],
   "source": [
    "validation_set = split_dataset(validation[0], validation[1])\n",
    "write_lst(validation_set, './data/img', './data/validation/dog.lst')"
   ]
  },
  {
   "cell_type": "code",
   "execution_count": 63,
   "metadata": {},
   "outputs": [],
   "source": [
    "test_set = split_dataset(test[0], test[1])\n",
    "write_lst(validation_set, './data/img', './data/test/dog.lst')"
   ]
  },
  {
   "cell_type": "markdown",
   "metadata": {},
   "source": [
    "## Run generate_rec.sh\n",
    "this script will generate rec file based on lst for different dataset\n",
    "\n",
    "``` bash\n",
    "python im2rec.py ./data/train . --center-crop True --resize 224 --pack-label True\n",
    "python im2rec.py ./data/validation . --center-crop True --resize 224 --pack-label True\n",
    "python im2rec.py ./data/test . --center-crop True --resize 224 --pack-label True\n",
    "python im2rec.py ./data/sample . --center-crop True --resize 224 --pack-label True\n",
    "```"
   ]
  },
  {
   "cell_type": "code",
   "execution_count": null,
   "metadata": {},
   "outputs": [],
   "source": []
  }
 ],
 "metadata": {
  "kernelspec": {
   "display_name": "Python 3",
   "language": "python",
   "name": "python3"
  },
  "language_info": {
   "codemirror_mode": {
    "name": "ipython",
    "version": 3
   },
   "file_extension": ".py",
   "mimetype": "text/x-python",
   "name": "python",
   "nbconvert_exporter": "python",
   "pygments_lexer": "ipython3",
   "version": "3.6.0"
  }
 },
 "nbformat": 4,
 "nbformat_minor": 2
}
